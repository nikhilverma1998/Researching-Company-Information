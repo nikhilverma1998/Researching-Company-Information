{
 "cells": [
  {
   "cell_type": "markdown",
   "id": "f4b4d6eb",
   "metadata": {},
   "source": [
    "# Downloading the data from crunchbase"
   ]
  },
  {
   "cell_type": "code",
   "execution_count": 1,
   "id": "c9af267d",
   "metadata": {},
   "outputs": [],
   "source": [
    "import os\n",
    "import requests\n",
    "crunchbasefile = 'cb.tar.gz'\n",
    "if not os.path.exists(cb_file):\n",
    "    url = 'https://api.crunchbase.com/odm/v4/odm.tar.gz?user_key=' + os.environ.get('cb_api_key')\n",
    "    response = requests.get(url)\n",
    "    open(cb_file, 'wb').write(response.content)"
   ]
  },
  {
   "cell_type": "code",
   "execution_count": null,
   "id": "6db5eb2b",
   "metadata": {},
   "outputs": [],
   "source": [
    "!tar -xvf cb.tar.gz --directory data"
   ]
  },
  {
   "cell_type": "code",
   "execution_count": null,
   "id": "9d4550a5",
   "metadata": {},
   "outputs": [],
   "source": [
    "# verify the checksum \n",
    "!md5sum data/organizations.csv"
   ]
  },
  {
   "cell_type": "code",
   "execution_count": null,
   "id": "9a2bfed6",
   "metadata": {},
   "outputs": [],
   "source": [
    "# delete un-needed files\n",
    "!rm data/checksum.csv data/people.csv"
   ]
  },
  {
   "cell_type": "code",
   "execution_count": 5,
   "id": "545b1d04",
   "metadata": {},
   "outputs": [
    {
     "name": "stdout",
     "output_type": "stream",
     "text": [
      " Volume in drive D is New Volume\n",
      " Volume Serial Number is 2827-F736\n",
      "\n",
      " Directory of D:\\MTech\\Karya Consultant Assignment\n",
      "\n",
      "01/28/2024  11:03 AM    <DIR>          .\n",
      "01/28/2024  11:03 AM    <DIR>          ..\n",
      "01/28/2024  10:53 AM    <DIR>          .ipynb_checkpoints\n",
      "05/14/2019  05:22 AM            29,641 acquisitions.csv\n",
      "05/14/2019  05:24 AM           450,560 bulk_export_sample.tar\n",
      "01/28/2024  11:02 AM           154,033 bulk_export_sample.tar.gz\n",
      "05/14/2019  05:22 AM             9,545 category_groups.csv\n",
      "01/27/2024  06:58 PM             5,053 companies.xlsx\n",
      "01/04/2020  07:30 PM    <DIR>          crunchbase-scraper-master\n",
      "01/28/2024  12:19 AM            92,368 crunchbase-scraper-master.zip\n",
      "01/28/2024  11:00 AM             2,105 Crunchbase.ipynb\n",
      "05/14/2019  05:22 AM            15,189 degrees.csv\n",
      "01/27/2024  10:50 PM                 0 error.csv\n",
      "01/27/2024  10:49 PM                 0 error.txt\n",
      "05/14/2019  05:22 AM            63,033 events.csv\n",
      "05/14/2019  05:22 AM            22,844 event_appearances.csv\n",
      "01/27/2024  10:10 PM               296 found.csv\n",
      "01/27/2024  10:10 PM             5,201 from githum.csv\n",
      "05/14/2019  05:22 AM            18,983 funding_rounds.csv\n",
      "05/14/2019  05:22 AM            17,853 funds.csv\n",
      "05/14/2019  05:22 AM            23,021 investments.csv\n",
      "05/14/2019  05:22 AM            24,717 investment_partners.csv\n",
      "05/14/2019  05:22 AM            20,391 investors.csv\n",
      "05/14/2019  05:22 AM            18,194 ipos.csv\n",
      "05/14/2019  05:22 AM            20,836 jobs.csv\n",
      "05/14/2019  05:23 AM            36,510 organizations.csv\n",
      "05/14/2019  05:22 AM            38,381 organization_descriptions.csv\n",
      "05/14/2019  05:22 AM            12,206 org_parents.csv\n",
      "05/14/2019  05:23 AM            21,804 people.csv\n",
      "05/14/2019  05:23 AM            37,467 people_descriptions.csv\n",
      "01/28/2024  12:29 AM            12,745 Untitled.ipynb\n",
      "              27 File(s)      1,152,976 bytes\n",
      "               4 Dir(s)  311,350,194,176 bytes free\n"
     ]
    }
   ],
   "source": [
    "!dir"
   ]
  },
  {
   "cell_type": "code",
   "execution_count": 88,
   "id": "c4f1d65a",
   "metadata": {},
   "outputs": [],
   "source": [
    "import pandas as pd\n",
    "\n",
    "organizations = pd.read_csv('organizations.csv')\n",
    "organization_descriptions = pd.read_csv('organization_descriptions.csv')\n",
    "result = pd.read_csv('result.csv')\n"
   ]
  },
  {
   "cell_type": "code",
   "execution_count": 89,
   "id": "76c75f72",
   "metadata": {},
   "outputs": [],
   "source": [
    "# change the values of the name column to lowercase\n",
    "\n",
    "result['Name'] = result['Name'].str.lower()\n",
    "organizations['name'] = organizations['name'].str.lower()\n",
    "organization_descriptions['name'] = organization_descriptions['name'].str.lower()"
   ]
  },
  {
   "cell_type": "code",
   "execution_count": 94,
   "id": "251bb2f9",
   "metadata": {},
   "outputs": [],
   "source": [
    "def find_competitors(company_name, industry_groups):\n",
    "    competitors = organizations[\n",
    "        organizations[\"category_groups_list\"].str.split(r'\\s*,\\s*|\\s*and\\s*').apply(\n",
    "            lambda x: any(item in x if isinstance(x, list) else False for item in industry_groups)\n",
    "        )\n",
    "    ][\"name\"].tolist()\n",
    "    #competitors.remove(company_name)  # Remove the company itself from competitors\n",
    "    return \", \".join(competitors)\n",
    "\n",
    "# Apply the function to each row in result_df using the correct column names\n",
    "result[\"Competitors\"] = result.apply(\n",
    "    lambda row: find_competitors(row[\"Name\"], row[\"Industry\"]),\n",
    "    axis=1,\n",
    ")\n"
   ]
  },
  {
   "cell_type": "code",
   "execution_count": 91,
   "id": "eb5398c6",
   "metadata": {},
   "outputs": [],
   "source": [
    "# population details of a company in result form the values in other tables\n",
    "\n",
    "result[\"description\"] = result[\"description\"].combine_first(organization_descriptions[\"description\"])\n",
    "result[\"Sector\"] = result[\"Sector\"].combine_first(organizations[\"roles\"])\n",
    "result[\"Industry\"] = result[\"Industry\"].combine_first(organizations[\"category_list\"])\n",
    "result[\"Funding in USD\"] = result[\"Funding in USD\"].combine_first(organizations[\"total_funding_usd\"])\n",
    "result[\"Product\"] = result[\"Product\"].combine_first(organizations[\"category_groups_list\"])\n",
    "result[\"Competitors\"] = result.apply(\n",
    "    lambda row: find_competitors(row[\"Name\"], row[\"Industry\"]),\n",
    "    axis=1,\n",
    ")"
   ]
  },
  {
   "cell_type": "code",
   "execution_count": 95,
   "id": "285587cd",
   "metadata": {},
   "outputs": [
    {
     "data": {
      "text/html": [
       "<div>\n",
       "<style scoped>\n",
       "    .dataframe tbody tr th:only-of-type {\n",
       "        vertical-align: middle;\n",
       "    }\n",
       "\n",
       "    .dataframe tbody tr th {\n",
       "        vertical-align: top;\n",
       "    }\n",
       "\n",
       "    .dataframe thead th {\n",
       "        text-align: right;\n",
       "    }\n",
       "</style>\n",
       "<table border=\"1\" class=\"dataframe\">\n",
       "  <thead>\n",
       "    <tr style=\"text-align: right;\">\n",
       "      <th></th>\n",
       "      <th>Name</th>\n",
       "      <th>Domain</th>\n",
       "      <th>description</th>\n",
       "      <th>Sector</th>\n",
       "      <th>Industry</th>\n",
       "      <th>Funding in USD</th>\n",
       "      <th>Product</th>\n",
       "      <th>Competitors</th>\n",
       "    </tr>\n",
       "  </thead>\n",
       "  <tbody>\n",
       "    <tr>\n",
       "      <th>0</th>\n",
       "      <td>meridian entertainment group</td>\n",
       "      <td>http://meridianconcerts.com</td>\n",
       "      <td>The Corporate bonds Series OLI-III-B is offere...</td>\n",
       "      <td>company</td>\n",
       "      <td>Consulting,Events</td>\n",
       "      <td>NaN</td>\n",
       "      <td>Events,Media and Entertainment</td>\n",
       "      <td></td>\n",
       "    </tr>\n",
       "    <tr>\n",
       "      <th>1</th>\n",
       "      <td>applied biocode</td>\n",
       "      <td>http://apbiocode.com</td>\n",
       "      <td>Padoq is a community network platform revoluti...</td>\n",
       "      <td>company</td>\n",
       "      <td>Communities,Internet</td>\n",
       "      <td>NaN</td>\n",
       "      <td>Community and Lifestyle,Internet Services</td>\n",
       "      <td></td>\n",
       "    </tr>\n",
       "    <tr>\n",
       "      <th>2</th>\n",
       "      <td>woko</td>\n",
       "      <td>http://www.woko.fr/</td>\n",
       "      <td>Enrich lives. That's what we're all about. It'...</td>\n",
       "      <td>school</td>\n",
       "      <td>E-Learning,Education,Higher Education</td>\n",
       "      <td>NaN</td>\n",
       "      <td>Education,Software</td>\n",
       "      <td></td>\n",
       "    </tr>\n",
       "    <tr>\n",
       "      <th>3</th>\n",
       "      <td>paladina health</td>\n",
       "      <td>http://www.paladinahealth.com</td>\n",
       "      <td>Kaffeen mobile application is the first mobile...</td>\n",
       "      <td>company</td>\n",
       "      <td>Health Care,Hospital,Medical,Personal Health</td>\n",
       "      <td>165000000.0</td>\n",
       "      <td>Health Care</td>\n",
       "      <td></td>\n",
       "    </tr>\n",
       "  </tbody>\n",
       "</table>\n",
       "</div>"
      ],
      "text/plain": [
       "                           Name                         Domain  \\\n",
       "0  meridian entertainment group    http://meridianconcerts.com   \n",
       "1               applied biocode           http://apbiocode.com   \n",
       "2                          woko            http://www.woko.fr/   \n",
       "3               paladina health  http://www.paladinahealth.com   \n",
       "\n",
       "                                         description   Sector  \\\n",
       "0  The Corporate bonds Series OLI-III-B is offere...  company   \n",
       "1  Padoq is a community network platform revoluti...  company   \n",
       "2  Enrich lives. That's what we're all about. It'...   school   \n",
       "3  Kaffeen mobile application is the first mobile...  company   \n",
       "\n",
       "                                       Industry  Funding in USD  \\\n",
       "0                             Consulting,Events             NaN   \n",
       "1                          Communities,Internet             NaN   \n",
       "2         E-Learning,Education,Higher Education             NaN   \n",
       "3  Health Care,Hospital,Medical,Personal Health     165000000.0   \n",
       "\n",
       "                                     Product Competitors  \n",
       "0             Events,Media and Entertainment              \n",
       "1  Community and Lifestyle,Internet Services              \n",
       "2                         Education,Software              \n",
       "3                                Health Care              "
      ]
     },
     "execution_count": 95,
     "metadata": {},
     "output_type": "execute_result"
    }
   ],
   "source": [
    "result"
   ]
  },
  {
   "cell_type": "code",
   "execution_count": 97,
   "id": "68fd3e5e",
   "metadata": {},
   "outputs": [],
   "source": [
    "result.to_csv('final_result.csv',index=False)"
   ]
  }
 ],
 "metadata": {
  "kernelspec": {
   "display_name": "Python 3 (ipykernel)",
   "language": "python",
   "name": "python3"
  },
  "language_info": {
   "codemirror_mode": {
    "name": "ipython",
    "version": 3
   },
   "file_extension": ".py",
   "mimetype": "text/x-python",
   "name": "python",
   "nbconvert_exporter": "python",
   "pygments_lexer": "ipython3",
   "version": "3.11.5"
  }
 },
 "nbformat": 4,
 "nbformat_minor": 5
}
